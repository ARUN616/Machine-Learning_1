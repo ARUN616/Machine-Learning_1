{
 "cells": [
  {
   "cell_type": "code",
   "execution_count": 1,
   "id": "056a91ad",
   "metadata": {},
   "outputs": [
    {
     "data": {
      "application/javascript": [
       "\n",
       "        if (window._pyforest_update_imports_cell) { window._pyforest_update_imports_cell('import pickle'); }\n",
       "    "
      ],
      "text/plain": [
       "<IPython.core.display.Javascript object>"
      ]
     },
     "metadata": {},
     "output_type": "display_data"
    },
    {
     "data": {
      "application/javascript": [
       "\n",
       "        if (window._pyforest_update_imports_cell) { window._pyforest_update_imports_cell('import pickle'); }\n",
       "    "
      ],
      "text/plain": [
       "<IPython.core.display.Javascript object>"
      ]
     },
     "metadata": {},
     "output_type": "display_data"
    },
    {
     "data": {
      "application/javascript": [
       "\n",
       "        if (window._pyforest_update_imports_cell) { window._pyforest_update_imports_cell('import pickle'); }\n",
       "    "
      ],
      "text/plain": [
       "<IPython.core.display.Javascript object>"
      ]
     },
     "metadata": {},
     "output_type": "display_data"
    }
   ],
   "source": [
    "# Load the saved model and scalers\n",
    "with open('svm_model.pkl', 'rb') as model_file:\n",
    "    loaded_model = pickle.load(model_file)\n",
    "\n",
    "with open('scaler_X.pkl', 'rb') as scaler_X_file:\n",
    "    loaded_scaler_X = pickle.load(scaler_X_file)\n",
    "\n",
    "with open('scaler_y.pkl', 'rb') as scaler_y_file:\n",
    "    loaded_scaler_y = pickle.load(scaler_y_file)\n"
   ]
  },
  {
   "cell_type": "code",
   "execution_count": 5,
   "id": "78167def",
   "metadata": {},
   "outputs": [
    {
     "name": "stdout",
     "output_type": "stream",
     "text": [
      "Age:22\n",
      "BMI:22\n",
      "Children:1\n",
      "Sex Male 0 or 1:0\n",
      "Smoker Yes 0 or 1:1\n"
     ]
    },
    {
     "ename": "TypeError",
     "evalue": "StandardScaler.transform() takes from 2 to 3 positional arguments but 6 were given",
     "output_type": "error",
     "traceback": [
      "\u001b[1;31m---------------------------------------------------------------------------\u001b[0m",
      "\u001b[1;31mTypeError\u001b[0m                                 Traceback (most recent call last)",
      "Cell \u001b[1;32mIn[5], line 8\u001b[0m\n\u001b[0;32m      4\u001b[0m sex_male_input\u001b[38;5;241m=\u001b[39m\u001b[38;5;28mint\u001b[39m(\u001b[38;5;28minput\u001b[39m(\u001b[38;5;124m\"\u001b[39m\u001b[38;5;124mSex Male 0 or 1:\u001b[39m\u001b[38;5;124m\"\u001b[39m))\n\u001b[0;32m      5\u001b[0m smoker_yes_input\u001b[38;5;241m=\u001b[39m\u001b[38;5;28mint\u001b[39m(\u001b[38;5;28minput\u001b[39m(\u001b[38;5;124m\"\u001b[39m\u001b[38;5;124mSmoker Yes 0 or 1:\u001b[39m\u001b[38;5;124m\"\u001b[39m))\n\u001b[1;32m----> 8\u001b[0m user_input\u001b[38;5;241m=\u001b[39m\u001b[43mloaded_scaler_X\u001b[49m\u001b[38;5;241;43m.\u001b[39;49m\u001b[43mtransform\u001b[49m\u001b[43m(\u001b[49m\u001b[43mage_input\u001b[49m\u001b[43m,\u001b[49m\u001b[43mbmi_input\u001b[49m\u001b[43m,\u001b[49m\u001b[43mchildren_input\u001b[49m\u001b[43m,\u001b[49m\u001b[43msex_male_input\u001b[49m\u001b[43m,\u001b[49m\u001b[43msmoker_yes_input\u001b[49m\u001b[43m)\u001b[49m\n\u001b[0;32m     10\u001b[0m pred_model\u001b[38;5;241m=\u001b[39mloaded_model\u001b[38;5;241m.\u001b[39mpredict(user_input)\n\u001b[0;32m     12\u001b[0m output_result\u001b[38;5;241m=\u001b[39mloaded_scaler_y\u001b[38;5;241m.\u001b[39minverse_transform(pred_model)\n",
      "File \u001b[1;32m~\\anaconda3\\lib\\site-packages\\sklearn\\utils\\_set_output.py:157\u001b[0m, in \u001b[0;36m_wrap_method_output.<locals>.wrapped\u001b[1;34m(self, X, *args, **kwargs)\u001b[0m\n\u001b[0;32m    155\u001b[0m \u001b[38;5;129m@wraps\u001b[39m(f)\n\u001b[0;32m    156\u001b[0m \u001b[38;5;28;01mdef\u001b[39;00m \u001b[38;5;21mwrapped\u001b[39m(\u001b[38;5;28mself\u001b[39m, X, \u001b[38;5;241m*\u001b[39margs, \u001b[38;5;241m*\u001b[39m\u001b[38;5;241m*\u001b[39mkwargs):\n\u001b[1;32m--> 157\u001b[0m     data_to_wrap \u001b[38;5;241m=\u001b[39m f(\u001b[38;5;28mself\u001b[39m, X, \u001b[38;5;241m*\u001b[39margs, \u001b[38;5;241m*\u001b[39m\u001b[38;5;241m*\u001b[39mkwargs)\n\u001b[0;32m    158\u001b[0m     \u001b[38;5;28;01mif\u001b[39;00m \u001b[38;5;28misinstance\u001b[39m(data_to_wrap, \u001b[38;5;28mtuple\u001b[39m):\n\u001b[0;32m    159\u001b[0m         \u001b[38;5;66;03m# only wrap the first output for cross decomposition\u001b[39;00m\n\u001b[0;32m    160\u001b[0m         return_tuple \u001b[38;5;241m=\u001b[39m (\n\u001b[0;32m    161\u001b[0m             _wrap_data_with_container(method, data_to_wrap[\u001b[38;5;241m0\u001b[39m], X, \u001b[38;5;28mself\u001b[39m),\n\u001b[0;32m    162\u001b[0m             \u001b[38;5;241m*\u001b[39mdata_to_wrap[\u001b[38;5;241m1\u001b[39m:],\n\u001b[0;32m    163\u001b[0m         )\n",
      "\u001b[1;31mTypeError\u001b[0m: StandardScaler.transform() takes from 2 to 3 positional arguments but 6 were given"
     ]
    }
   ],
   "source": [
    "# Get user input for prediction\n",
    "age_input = float(input(\"Age: \"))\n",
    "bmi_input = float(input(\"BMI: \"))\n",
    "children_input = float(input(\"Children: \"))\n",
    "sex_male_input = int(input(\"Sex Male 0 or 1: \"))\n",
    "smoker_yes_input = int(input(\"Smoker Yes 0 or 1: \"))\n",
    "\n",
    "# Create a DataFrame with the user input\n",
    "user_input_df = pd.DataFrame({\n",
    "    'age': [age_input],\n",
    "    'bmi': [bmi_input],\n",
    "    'children': [children_input],\n",
    "    'sex_male': [sex_male_input],\n",
    "    'smoker_yes': [smoker_yes_input]\n",
    "})\n",
    "\n",
    "\n",
    "user_input=loaded_scaler_X.transform(user_input_df)\n",
    "\n",
    "pred_model=loaded_model.predict(user_input)\n",
    "\n",
    "user_pred_model = pred_model.reshape(1, -1)\n",
    "\n",
    "output_result=loaded_scaler_y.inverse_transform(user_pred_model)\n",
    "output_result"
   ]
  }
 ],
 "metadata": {
  "kernelspec": {
   "display_name": "Python 3 (ipykernel)",
   "language": "python",
   "name": "python3"
  },
  "language_info": {
   "codemirror_mode": {
    "name": "ipython",
    "version": 3
   },
   "file_extension": ".py",
   "mimetype": "text/x-python",
   "name": "python",
   "nbconvert_exporter": "python",
   "pygments_lexer": "ipython3",
   "version": "3.10.9"
  }
 },
 "nbformat": 4,
 "nbformat_minor": 5
}
