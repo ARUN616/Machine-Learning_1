{
 "cells": [
  {
   "cell_type": "code",
   "execution_count": 1,
   "id": "41796bb2",
   "metadata": {},
   "outputs": [],
   "source": [
    "import pickle"
   ]
  },
  {
   "cell_type": "code",
   "execution_count": 6,
   "id": "07b1a847",
   "metadata": {},
   "outputs": [],
   "source": [
    "#Loading the saved model as predicted\n",
    "filename='Finalized_Multiple_Linear_Regression.sav'\n",
    "\n",
    "load_model=pickle.load(open(filename,\"rb\"))"
   ]
  },
  {
   "cell_type": "code",
   "execution_count": 7,
   "id": "658ed3c7",
   "metadata": {},
   "outputs": [
    {
     "name": "stdout",
     "output_type": "stream",
     "text": [
      "Enter the investment for R&D: 346.9\n",
      "Enter the investment for administration:35632.5\n",
      "Enter the investment for marketing:39985.2\n",
      "Enter the count as 1 if state is florida0\n",
      "Enter the count as 1 if state is newyork1\n"
     ]
    },
    {
     "name": "stderr",
     "output_type": "stream",
     "text": [
      "C:\\Users\\Arun\\anaconda3\\lib\\site-packages\\sklearn\\base.py:465: UserWarning: X does not have valid feature names, but LinearRegression was fitted with feature names\n",
      "  warnings.warn(\n"
     ]
    },
    {
     "data": {
      "text/plain": [
       "array([[41780.71855716]])"
      ]
     },
     "execution_count": 7,
     "metadata": {},
     "output_type": "execute_result"
    }
   ],
   "source": [
    "#Given the input for all the fields which are independent\n",
    "r_and_d_spend=float(input('Enter the investment for R&D: '))\n",
    "administration=float(input('Enter the investment for administration:'))\n",
    "marketing_spend=float(input('Enter the investment for marketing:'))\n",
    "state_florida=int(input('Enter the count as 1 if state is florida'))\n",
    "state_newyork=int(input('Enter the count as 1 if state is newyork'))\n",
    "\n",
    "result=load_model.predict([[r_and_d_spend,administration,marketing_spend,state_florida,state_newyork]])\n",
    "result"
   ]
  }
 ],
 "metadata": {
  "kernelspec": {
   "display_name": "Python 3 (ipykernel)",
   "language": "python",
   "name": "python3"
  },
  "language_info": {
   "codemirror_mode": {
    "name": "ipython",
    "version": 3
   },
   "file_extension": ".py",
   "mimetype": "text/x-python",
   "name": "python",
   "nbconvert_exporter": "python",
   "pygments_lexer": "ipython3",
   "version": "3.10.9"
  }
 },
 "nbformat": 4,
 "nbformat_minor": 5
}
