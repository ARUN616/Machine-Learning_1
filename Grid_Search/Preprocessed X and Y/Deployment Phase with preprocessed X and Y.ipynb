{
 "cells": [
  {
   "cell_type": "code",
   "execution_count": 10,
   "id": "056a91ad",
   "metadata": {},
   "outputs": [
    {
     "data": {
      "application/javascript": [
       "\n",
       "        if (window._pyforest_update_imports_cell) { window._pyforest_update_imports_cell('import pickle\\nimport pandas as pd'); }\n",
       "    "
      ],
      "text/plain": [
       "<IPython.core.display.Javascript object>"
      ]
     },
     "metadata": {},
     "output_type": "display_data"
    },
    {
     "data": {
      "application/javascript": [
       "\n",
       "        if (window._pyforest_update_imports_cell) { window._pyforest_update_imports_cell('import pickle\\nimport pandas as pd'); }\n",
       "    "
      ],
      "text/plain": [
       "<IPython.core.display.Javascript object>"
      ]
     },
     "metadata": {},
     "output_type": "display_data"
    },
    {
     "data": {
      "application/javascript": [
       "\n",
       "        if (window._pyforest_update_imports_cell) { window._pyforest_update_imports_cell('import pickle\\nimport pandas as pd'); }\n",
       "    "
      ],
      "text/plain": [
       "<IPython.core.display.Javascript object>"
      ]
     },
     "metadata": {},
     "output_type": "display_data"
    }
   ],
   "source": [
    "# Load the saved model and scalers\n",
    "with open('svm_model.pkl', 'rb') as model_file:\n",
    "    loaded_model = pickle.load(model_file)\n",
    "\n",
    "with open('scaler_X.pkl', 'rb') as scaler_X_file:\n",
    "    loaded_scaler_X = pickle.load(scaler_X_file)\n",
    "\n",
    "with open('scaler_y.pkl', 'rb') as scaler_y_file:\n",
    "    loaded_scaler_y = pickle.load(scaler_y_file)\n"
   ]
  },
  {
   "cell_type": "code",
   "execution_count": 13,
   "id": "78167def",
   "metadata": {},
   "outputs": [
    {
     "name": "stdout",
     "output_type": "stream",
     "text": [
      "Age: 21\n",
      "BMI: 21\n",
      "Children: 1\n",
      "Sex Male 0 or 1: 0\n",
      "Smoker Yes 0 or 1: 1\n"
     ]
    },
    {
     "data": {
      "application/javascript": [
       "\n",
       "        if (window._pyforest_update_imports_cell) { window._pyforest_update_imports_cell('import pickle\\nimport pandas as pd'); }\n",
       "    "
      ],
      "text/plain": [
       "<IPython.core.display.Javascript object>"
      ]
     },
     "metadata": {},
     "output_type": "display_data"
    },
    {
     "name": "stdout",
     "output_type": "stream",
     "text": [
      "[[15532.86784712]]\n"
     ]
    }
   ],
   "source": [
    "# Get user input for prediction\n",
    "age_input = float(input(\"Age: \"))\n",
    "bmi_input = float(input(\"BMI: \"))\n",
    "children_input = float(input(\"Children: \"))\n",
    "sex_male_input = int(input(\"Sex Male 0 or 1: \"))\n",
    "smoker_yes_input = int(input(\"Smoker Yes 0 or 1: \"))\n",
    "\n",
    "# Create a DataFrame with the user input\n",
    "user_input_df = pd.DataFrame({\n",
    "    'age': [age_input],\n",
    "    'bmi': [bmi_input],\n",
    "    'children': [children_input],\n",
    "    'sex_male': [sex_male_input],\n",
    "    'smoker_yes': [smoker_yes_input]\n",
    "})\n",
    "\n",
    "\n",
    "\n",
    "# Use the scaler's transform method with the entire DataFrame\n",
    "user_input = loaded_scaler_X.transform(user_input_df)\n",
    "\n",
    "user_input = user_input.reshape(1, -1)  # Uncomment this line if it was commented for SVR\n",
    "\n",
    "# Predict using the model\n",
    "pred_model = loaded_model.predict(user_input)\n",
    "\n",
    "# Inverse transform to get the final result\n",
    "# Reshape the pred_model to a 2D array\n",
    "pred_model = pred_model.reshape(1, -1)\n",
    "output_result = loaded_scaler_y.inverse_transform(pred_model)\n",
    "\n",
    "print(output_result)\n",
    "\n",
    "\n"
   ]
  }
 ],
 "metadata": {
  "kernelspec": {
   "display_name": "Python 3 (ipykernel)",
   "language": "python",
   "name": "python3"
  },
  "language_info": {
   "codemirror_mode": {
    "name": "ipython",
    "version": 3
   },
   "file_extension": ".py",
   "mimetype": "text/x-python",
   "name": "python",
   "nbconvert_exporter": "python",
   "pygments_lexer": "ipython3",
   "version": "3.10.9"
  }
 },
 "nbformat": 4,
 "nbformat_minor": 5
}
